{
  "nbformat": 4,
  "nbformat_minor": 0,
  "metadata": {
    "colab": {
      "name": "checkpoint3.ipynb",
      "provenance": [],
      "collapsed_sections": []
    },
    "kernelspec": {
      "name": "python3",
      "display_name": "Python 3"
    },
    "language_info": {
      "name": "python"
    }
  },
  "cells": [
    {
      "cell_type": "code",
      "metadata": {
        "colab": {
          "base_uri": "https://localhost:8080/"
        },
        "id": "JNfARZv2P3-m",
        "outputId": "01952ae1-7c1f-419f-e08f-1cc611c5989f"
      },
      "source": [
        "liste=[3,6,2]\n",
        "s=1\n",
        "for i in listt :\n",
        "  s=s*i\n",
        "print(s)"
      ],
      "execution_count": null,
      "outputs": [
        {
          "output_type": "stream",
          "name": "stdout",
          "text": [
            "36\n"
          ]
        }
      ]
    },
    {
      "cell_type": "code",
      "metadata": {
        "colab": {
          "base_uri": "https://localhost:8080/"
        },
        "id": "pQWu1tPtRz9S",
        "outputId": "8565e558-af69-4c36-d7e0-6c922d89f1a8"
      },
      "source": [
        "liste=[(2, 5), (1, 2), (4, 4), (2, 3), (2, 1)]\n",
        "def last(n): return n[-1]\n",
        "def sort_list_last(tuples):\n",
        "    return sorted(tuples, key=last)\n",
        "\n",
        "print(sort_list_last(liste))"
      ],
      "execution_count": 5,
      "outputs": [
        {
          "output_type": "stream",
          "name": "stdout",
          "text": [
            "[(2, 1), (1, 2), (2, 3), (4, 4), (2, 5)]\n"
          ]
        }
      ]
    },
    {
      "cell_type": "code",
      "metadata": {
        "colab": {
          "base_uri": "https://localhost:8080/"
        },
        "id": "0EAZ5s_uVDqb",
        "outputId": "8beee99b-eda6-4a44-c998-70318fc30c03"
      },
      "source": [
        "d1 = {'a': 100, 'b': 200, 'c':300}\n",
        "d2 = {'a': 300, 'b': 200, 'd':400}\n",
        "d3 = {}\n",
        "for i in d2:\n",
        "  if (i in d1):\n",
        "      d3[i]=d2[i]+d1[i]\n",
        "  else:\n",
        "      d3[i]=d2[i]\n",
        "for i in d1:\n",
        "  if (i not in d2):\n",
        "      d3[i]=d1[i]\n",
        "print(d3)\n"
      ],
      "execution_count": null,
      "outputs": [
        {
          "output_type": "stream",
          "name": "stdout",
          "text": [
            "{'a': 400, 'b': 400, 'd': 400, 'c': 300}\n"
          ]
        }
      ]
    },
    {
      "cell_type": "code",
      "metadata": {
        "colab": {
          "base_uri": "https://localhost:8080/"
        },
        "id": "UoJw63iV0Bf8",
        "outputId": "404d96bd-f895-45bf-f108-2b0bbac165b9"
      },
      "source": [
        "n=int(input())\n",
        "d1={}\n",
        "for i in range(1,n+1):\n",
        "  d1[i]=i*i\n",
        "print(d1)"
      ],
      "execution_count": null,
      "outputs": [
        {
          "output_type": "stream",
          "name": "stdout",
          "text": [
            "8\n",
            "{1: 1, 2: 4, 3: 9, 4: 16, 5: 25, 6: 36, 7: 49, 8: 64}\n"
          ]
        }
      ]
    },
    {
      "cell_type": "code",
      "metadata": {
        "colab": {
          "base_uri": "https://localhost:8080/"
        },
        "id": "mnMGblVM3Xkz",
        "outputId": "fc9c3952-0297-4729-ce5a-49737348e8ed"
      },
      "source": [
        "liste= [('item1', 12.20), ('item2', 15.10), ('item3', 24.5)]\n",
        "def last(n): \n",
        "  return n[-1]\n",
        "def sort_list_last(tuples):\n",
        "    return sorted(tuples, key=last ,reverse=True)\n",
        "print(sort_list_last(liste))\n",
        "\n"
      ],
      "execution_count": 9,
      "outputs": [
        {
          "output_type": "stream",
          "name": "stdout",
          "text": [
            "[('item3', 24.5), ('item2', 15.1), ('item1', 12.2)]\n"
          ]
        }
      ]
    }
  ]
}