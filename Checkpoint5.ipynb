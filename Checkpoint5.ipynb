{
  "nbformat": 4,
  "nbformat_minor": 0,
  "metadata": {
    "colab": {
      "name": "Checkpoint5.ipynb",
      "provenance": [],
      "collapsed_sections": []
    },
    "kernelspec": {
      "name": "python3",
      "display_name": "Python 3"
    },
    "language_info": {
      "name": "python"
    }
  },
  "cells": [
    {
      "cell_type": "code",
      "execution_count": null,
      "metadata": {
        "colab": {
          "base_uri": "https://localhost:8080/"
        },
        "id": "Ybe7DJY_FziI",
        "outputId": "252b4143-88fe-468f-bff8-991397468cf0"
      },
      "outputs": [
        {
          "output_type": "stream",
          "name": "stdout",
          "text": [
            "<__main__.point3D object at 0x7fdef7984850>\n"
          ]
        }
      ],
      "source": [
        "class point3D:\n",
        "  def __init__(self,x,y,z):\n",
        "    self.x=x\n",
        "    self.y=y\n",
        "    self.z=z\n",
        "my_point=point3D(1,2,3)\n",
        "print(my_point)"
      ]
    },
    {
      "cell_type": "code",
      "source": [
        "class rectangle:\n",
        "  def __init__(self,length,width):\n",
        "    self.length=length\n",
        "    self.width=width\n",
        "  def area(self):\n",
        "    return (self.length*self.width)\n",
        "  def perimeter(self):\n",
        "    return (self.length+self.width)*2\n",
        "rec=rectangle(3,4)\n",
        "print(rec.area())\n",
        "print(rec.perimeter())"
      ],
      "metadata": {
        "colab": {
          "base_uri": "https://localhost:8080/"
        },
        "id": "rBVvvOm-LYl9",
        "outputId": "1415e200-cbea-42ba-df9e-161872eb7dd9"
      },
      "execution_count": null,
      "outputs": [
        {
          "output_type": "stream",
          "name": "stdout",
          "text": [
            "12\n",
            "14\n"
          ]
        }
      ]
    },
    {
      "cell_type": "code",
      "source": [
        "import math as m\n",
        "class circle:\n",
        "  def __init__(self,r,xo,yo):\n",
        "    self.xo=xo\n",
        "    self.yo=yo\n",
        "    self.r=r\n",
        "  def area(self):\n",
        "    return (self.r**2)*m.pi\n",
        "  def perimeter(self):\n",
        "    return (self.r*2)*m.pi\n",
        "  def isInside(self,x,y):\n",
        "    self.x=x\n",
        "    self.y=y\n",
        "    if (self.xo-self.x)**2+(self.yo-self.y)**2 <= self.r :\n",
        "      return \"is inside\"\n",
        "    else:\n",
        "      return \"is not inside\"\n",
        "p=circle(4,5,3)\n",
        "print(p.area())\n",
        "print(p.perimeter())\n",
        "print(p.isInside(6,3))\n"
      ],
      "metadata": {
        "colab": {
          "base_uri": "https://localhost:8080/"
        },
        "id": "qCz7wH8sPYk0",
        "outputId": "e51a1d06-abde-4ebf-cf5b-c2dddda8e962"
      },
      "execution_count": 5,
      "outputs": [
        {
          "output_type": "stream",
          "name": "stdout",
          "text": [
            "50.26548245743669\n",
            "25.132741228718345\n",
            "is inside\n"
          ]
        }
      ]
    },
    {
      "cell_type": "code",
      "source": [
        "class bank:\n",
        "  def __init__(self,balance):\n",
        "    self.balance=balance\n",
        "  def deposit(self,nb):\n",
        "    self.nb=nb\n",
        "    return self.balance + self.nb\n",
        "  def withdraw(self,nb):\n",
        "    self.nb=nb\n",
        "    return self.balance - self.nb\n",
        "\n",
        "b=bank(500)\n",
        "print(b.deposit(50))\n",
        "print(b.withdraw(100))"
      ],
      "metadata": {
        "colab": {
          "base_uri": "https://localhost:8080/"
        },
        "id": "AbPRCdkkBuKV",
        "outputId": "c6102f85-555a-43a2-cd53-4826d9c4e61b"
      },
      "execution_count": 13,
      "outputs": [
        {
          "output_type": "stream",
          "name": "stdout",
          "text": [
            "550\n",
            "400\n"
          ]
        }
      ]
    }
  ]
}