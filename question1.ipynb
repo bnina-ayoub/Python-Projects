{
  "nbformat": 4,
  "nbformat_minor": 0,
  "metadata": {
    "colab": {
      "name": "question1.ipynb",
      "provenance": []
    },
    "kernelspec": {
      "name": "python3",
      "display_name": "Python 3"
    },
    "language_info": {
      "name": "python"
    }
  },
  "cells": [
    {
      "cell_type": "code",
      "metadata": {
        "colab": {
          "base_uri": "https://localhost:8080/"
        },
        "id": "6hOdguWGoql_",
        "outputId": "74be2995-985f-4960-a1f9-679e15d2f2b4"
      },
      "source": [
        "print(\"Enter your first name and your last name\")\n",
        "name = input()\n",
        "print(name[::-1])"
      ],
      "execution_count": null,
      "outputs": [
        {
          "output_type": "stream",
          "name": "stdout",
          "text": [
            "Enter your first name and your last name\n",
            "bnina\n",
            "aninb\n",
            "i\n"
          ]
        }
      ]
    },
    {
      "cell_type": "code",
      "metadata": {
        "colab": {
          "base_uri": "https://localhost:8080/"
        },
        "id": "scRFfjEsuzhr",
        "outputId": "a5a496a7-5229-4077-d217-69900c85aee6"
      },
      "source": [
        "n=int(input())\n",
        "value = n+((n*10)+n) + ((n*100) + (n*10) + n)\n",
        "print (value)"
      ],
      "execution_count": 39,
      "outputs": [
        {
          "output_type": "stream",
          "name": "stdout",
          "text": [
            "5\n",
            "615\n"
          ]
        }
      ]
    },
    {
      "cell_type": "code",
      "metadata": {
        "colab": {
          "base_uri": "https://localhost:8080/"
        },
        "id": "HNq_cPByyacc",
        "outputId": "753bfdd2-3349-4be5-9de4-5b6f0d00a35a"
      },
      "source": [
        "x=int(input())\n",
        "if (x%2==0):\n",
        "    print(\"the given number is even\")\n",
        "else :\n",
        "    print(\"the given number is odd\")"
      ],
      "execution_count": 45,
      "outputs": [
        {
          "output_type": "stream",
          "name": "stdout",
          "text": [
            "5\n",
            "the given number is odd\n"
          ]
        }
      ]
    },
    {
      "cell_type": "code",
      "metadata": {
        "colab": {
          "base_uri": "https://localhost:8080/"
        },
        "id": "uzmgJJQPzi8d",
        "outputId": "46b9ec16-9120-461f-8262-e3331fc7f996"
      },
      "source": [
        "nb=0\n",
        "for i in range(2000,3200,1):\n",
        "  if (i%7==0) and (i%5!=0):\n",
        "      print(i, end= ' ')"
      ],
      "execution_count": 56,
      "outputs": [
        {
          "output_type": "stream",
          "name": "stdout",
          "text": [
            "2002 2009 2016 2023 2037 2044 2051 2058 2072 2079 2086 2093 2107 2114 2121 2128 2142 2149 2156 2163 2177 2184 2191 2198 2212 2219 2226 2233 2247 2254 2261 2268 2282 2289 2296 2303 2317 2324 2331 2338 2352 2359 2366 2373 2387 2394 2401 2408 2422 2429 2436 2443 2457 2464 2471 2478 2492 2499 2506 2513 2527 2534 2541 2548 2562 2569 2576 2583 2597 2604 2611 2618 2632 2639 2646 2653 2667 2674 2681 2688 2702 2709 2716 2723 2737 2744 2751 2758 2772 2779 2786 2793 2807 2814 2821 2828 2842 2849 2856 2863 2877 2884 2891 2898 2912 2919 2926 2933 2947 2954 2961 2968 2982 2989 2996 3003 3017 3024 3031 3038 3052 3059 3066 3073 3087 3094 3101 3108 3122 3129 3136 3143 3157 3164 3171 3178 3192 3199 "
          ]
        }
      ]
    },
    {
      "cell_type": "code",
      "metadata": {
        "colab": {
          "base_uri": "https://localhost:8080/"
        },
        "id": "BTcrihcLzjCA",
        "outputId": "c09b935c-7e79-4598-b27e-f6dc4bc32a9e"
      },
      "source": [
        "x=int(input())\n",
        "f=1\n",
        "if (x!=0):\n",
        "          for i in range(1,x+1):\n",
        "                f=f*i\n",
        "print(f)"
      ],
      "execution_count": 71,
      "outputs": [
        {
          "output_type": "stream",
          "name": "stdout",
          "text": [
            "4\n",
            "24\n"
          ]
        }
      ]
    },
    {
      "cell_type": "code",
      "metadata": {
        "colab": {
          "base_uri": "https://localhost:8080/"
        },
        "id": "Js9e1OnU4HOc",
        "outputId": "96b2bb60-2351-4a03-b138-c586c31bc648"
      },
      "source": [
        "st=input()\n",
        "print(st[::2])"
      ],
      "execution_count": 65,
      "outputs": [
        {
          "output_type": "stream",
          "name": "stdout",
          "text": [
            "bnina\n",
            "bia\n"
          ]
        }
      ]
    },
    {
      "cell_type": "code",
      "metadata": {
        "colab": {
          "base_uri": "https://localhost:8080/"
        },
        "id": "FbJ2c-XN4moZ",
        "outputId": "389c8914-50f5-4f87-b097-1481473d2c4a"
      },
      "source": [
        "print(\"enter price\")\n",
        "price=int(input())\n",
        "if (price>=500):\n",
        "    price = price - price*50/100\n",
        "elif (200<=price<500):\n",
        "    price = price - price*30/100\n",
        "else :\n",
        "    price=price-price*10/100\n",
        "print(price)"
      ],
      "execution_count": 77,
      "outputs": [
        {
          "output_type": "stream",
          "name": "stdout",
          "text": [
            "enter price\n",
            "80\n",
            "72.0\n"
          ]
        }
      ]
    }
  ]
}