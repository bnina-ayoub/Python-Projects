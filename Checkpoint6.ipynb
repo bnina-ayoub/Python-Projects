{
  "nbformat": 4,
  "nbformat_minor": 0,
  "metadata": {
    "colab": {
      "name": "Checkpoint6.ipynb",
      "provenance": [],
      "collapsed_sections": []
    },
    "kernelspec": {
      "name": "python3",
      "display_name": "Python 3"
    },
    "language_info": {
      "name": "python"
    }
  },
  "cells": [
    {
      "cell_type": "code",
      "execution_count": null,
      "metadata": {
        "colab": {
          "base_uri": "https://localhost:8080/"
        },
        "id": "3lfuleHMKoj2",
        "outputId": "8d616bd3-9e53-4679-d2c6-de00e0006f70"
      },
      "outputs": [
        {
          "output_type": "stream",
          "name": "stdout",
          "text": [
            "[1, 2, 3, 4, 5]\n"
          ]
        }
      ],
      "source": [
        "import numpy as np\n",
        "a=np.array([1,2,3,4,5])\n",
        "l=[]\n",
        "l=a.tolist()\n",
        "print(l)"
      ]
    },
    {
      "cell_type": "code",
      "source": [
        "a=np.array([1,2,3,4,5,6,7,8,9,10,11,12,13,14,15,16])\n",
        "a=a.reshape(4,4)\n",
        "print(np.trace(a))"
      ],
      "metadata": {
        "colab": {
          "base_uri": "https://localhost:8080/"
        },
        "id": "84wmPrZcQAmA",
        "outputId": "e5d25c0c-0684-41a3-a810-57d3b47c2569"
      },
      "execution_count": null,
      "outputs": [
        {
          "output_type": "stream",
          "name": "stdout",
          "text": [
            "34\n"
          ]
        }
      ]
    },
    {
      "cell_type": "code",
      "source": [
        "x=int(input(\"saisir X\"))\n",
        "a=np.array([1,2,3,4,5,6,7,8,9,10,11,12,13,14,15,16])\n",
        "s=\"\"\n",
        "for i in a:\n",
        "  if i > x:\n",
        "    s=s+ str(i)+\",\"\n",
        "print(s,\"are higher than\",x)"
      ],
      "metadata": {
        "colab": {
          "base_uri": "https://localhost:8080/"
        },
        "id": "lnISnO-cc0YO",
        "outputId": "e0fccc84-bf3d-48c4-e519-8a781a6fac64"
      },
      "execution_count": null,
      "outputs": [
        {
          "output_type": "stream",
          "name": "stdout",
          "text": [
            "saisir X8\n",
            "9,10,11,12,13,14,15,16, are higher than 8\n"
          ]
        }
      ]
    },
    {
      "cell_type": "code",
      "source": [
        "A=np.array([1,2,3,4,5,6,7,8,9,10,11,12,13,14,15,16])\n",
        "B=np.array([1,2,3,4,5,6,7,8,9,10,11,12,13,14,15,16])\n",
        "C=np.zeros(len(A))\n",
        "for i in range(len(A)):\n",
        "  C[i]=A[i]+B[i]\n",
        "print(C)"
      ],
      "metadata": {
        "colab": {
          "base_uri": "https://localhost:8080/"
        },
        "id": "tRn0m3tLf3f2",
        "outputId": "2ad162dc-f631-41ef-94e0-63cca88919a3"
      },
      "execution_count": 25,
      "outputs": [
        {
          "output_type": "stream",
          "name": "stdout",
          "text": [
            "[ 2.  4.  6.  8. 10. 12. 14. 16. 18. 20. 22. 24. 26. 28. 30. 32.]\n"
          ]
        }
      ]
    },
    {
      "cell_type": "code",
      "source": [
        "A=np.array([1.0,2.0,3.0,4.0,5.0,6.0,7.0,8.0,9.0,10.0,11.0,12.0,13.0,14.0,15.0,16.0])\n",
        "A=A.reshape(4,4)\n",
        "for i in range(4):\n",
        "  row=A[i,:]\n",
        "  for j in range(4):\n",
        "    A[i,j]=A[i,j]-np.mean(row,dtype=\"float64\")\n",
        "print(A)"
      ],
      "metadata": {
        "colab": {
          "base_uri": "https://localhost:8080/"
        },
        "id": "4StV6fkQigks",
        "outputId": "41ee22be-c056-4b1d-c601-a838b4017bdb"
      },
      "execution_count": 30,
      "outputs": [
        {
          "output_type": "stream",
          "name": "stdout",
          "text": [
            "[[-1.5        0.125      1.59375    2.9453125]\n",
            " [-1.5        1.125      3.34375    5.2578125]\n",
            " [-1.5        2.125      5.09375    7.5703125]\n",
            " [-1.5        3.125      6.84375    9.8828125]]\n"
          ]
        }
      ]
    }
  ]
}