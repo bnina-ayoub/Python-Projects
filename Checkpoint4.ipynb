{
  "nbformat": 4,
  "nbformat_minor": 0,
  "metadata": {
    "colab": {
      "name": "Checkpoint4.ipynb",
      "provenance": [],
      "collapsed_sections": []
    },
    "kernelspec": {
      "name": "python3",
      "display_name": "Python 3"
    },
    "language_info": {
      "name": "python"
    }
  },
  "cells": [
    {
      "cell_type": "code",
      "execution_count": null,
      "metadata": {
        "colab": {
          "base_uri": "https://localhost:8080/"
        },
        "id": "5e0idcYS3Akq",
        "outputId": "ff23755a-9613-49b8-ee5a-7207b73b5541"
      },
      "outputs": [
        {
          "output_type": "stream",
          "name": "stdout",
          "text": [
            "Enter the first number 18\n",
            "Enter the second number90\n",
            "Enter the third number1\n",
            "90\n"
          ]
        }
      ],
      "source": [
        "x=int(input(\"Enter the first number \"))\n",
        "y=int(input(\"Enter the second number \"))\n",
        "z=int(input(\"Enter the third number \"))\n",
        "def max (x,y,z):\n",
        "  max = x\n",
        "  if y > x:\n",
        "    max = y\n",
        "  elif z > x:\n",
        "    max = z\n",
        "  return max\n",
        "maxi = max(x,y,z)\n",
        "print(maxi)\n"
      ]
    },
    {
      "cell_type": "code",
      "source": [
        "def calculation():\n",
        "  x=int(input(\"Enter the first value \"))\n",
        "  y=int(input(\"Enter the second value \"))\n",
        "  sum=x+y\n",
        "  sub=x-y\n",
        "  return sum, sub\n",
        "sum, sub = calculation()\n",
        "print(sum,sub)"
      ],
      "metadata": {
        "colab": {
          "base_uri": "https://localhost:8080/"
        },
        "id": "UEZkJFAg560v",
        "outputId": "a0ebdf34-8198-45bb-ff0b-332eaff703fe"
      },
      "execution_count": null,
      "outputs": [
        {
          "output_type": "stream",
          "name": "stdout",
          "text": [
            "Enter the first value 5\n",
            "Enter the second value 5\n",
            "10 0\n"
          ]
        }
      ]
    },
    {
      "cell_type": "code",
      "source": [
        "l=[1,2,3,5,6,7,8]\n",
        "l1=[]\n",
        "l2=[]\n",
        "def suml(x):\n",
        "  s=0\n",
        "  for i in x:\n",
        "    s=s+i\n",
        "  return s\n",
        "def multl(y):\n",
        "  m=1\n",
        "  for i in y:\n",
        "    m=m*i\n",
        "  return m\n",
        "for i in range(len(l)):\n",
        "  if i%2==0:\n",
        "    l1.append(l[i])\n",
        "  else:\n",
        "    l2.append(l[i])\n",
        "print(suml(l1), multl(l2))"
      ],
      "metadata": {
        "colab": {
          "base_uri": "https://localhost:8080/"
        },
        "id": "PY5uREbp605o",
        "outputId": "ac92844b-294d-440e-d37b-c218841926b9"
      },
      "execution_count": null,
      "outputs": [
        {
          "output_type": "stream",
          "name": "stdout",
          "text": [
            "18 70\n"
          ]
        }
      ]
    },
    {
      "cell_type": "code",
      "source": [
        ""
      ],
      "metadata": {
        "id": "iDuKnwODuNPJ"
      },
      "execution_count": null,
      "outputs": []
    },
    {
      "cell_type": "code",
      "source": [
        "txt = input(\"Enter your sequence\")\n",
        "\n",
        "x = txt.split()\n",
        "x.sort()\n",
        "print(x)"
      ],
      "metadata": {
        "id": "OPnqzkGfS4iT",
        "colab": {
          "base_uri": "https://localhost:8080/"
        },
        "outputId": "c59a255b-f8c4-4623-a5df-994880a1cb07"
      },
      "execution_count": null,
      "outputs": [
        {
          "output_type": "stream",
          "name": "stdout",
          "text": [
            "Enter your sequencegreen yellow red black white\n",
            "['black', 'green', 'red', 'white', 'yellow']\n"
          ]
        }
      ]
    },
    {
      "cell_type": "code",
      "source": [
        ""
      ],
      "metadata": {
        "id": "f81Q6TMFu9HT"
      },
      "execution_count": null,
      "outputs": []
    },
    {
      "cell_type": "code",
      "source": [
        "from math import sqrt\n",
        "D=input(\"Enter your values\")\n",
        "D=D.split()\n",
        "for i in D:\n",
        "  print(int(sqrt(   (2*50*int(i))/30   )),\" \", end=\"\" )"
      ],
      "metadata": {
        "colab": {
          "base_uri": "https://localhost:8080/"
        },
        "id": "0nq35qWgwYAZ",
        "outputId": "060f10fa-19e8-4401-89f1-7a69b4169530"
      },
      "execution_count": 35,
      "outputs": [
        {
          "output_type": "stream",
          "name": "stdout",
          "text": [
            "Enter your values100 150 180\n",
            "18  22  24  "
          ]
        }
      ]
    }
  ]
}